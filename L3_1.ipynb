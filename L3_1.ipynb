{
 "cells": [
  {
   "cell_type": "code",
   "execution_count": 1,
   "metadata": {},
   "outputs": [],
   "source": [
    "import numpy as np\n",
    "import cv2\n",
    "import matplotlib.pyplot as plt\n",
    "from scipy.misc import imresize\n",
    "from scipy.optimize import minimize\n",
    "from sklearn.metrics import classification_report\n",
    "\n",
    "from PIL import Image, ImageDraw, ImageFont, ImageFilter"
   ]
  },
  {
   "cell_type": "code",
   "execution_count": 2,
   "metadata": {},
   "outputs": [],
   "source": [
    "GRID_SIZE = (11, 11)"
   ]
  },
  {
   "cell_type": "code",
   "execution_count": 3,
   "metadata": {},
   "outputs": [],
   "source": [
    "def prepare_image(symbol, modifier=None):\n",
    "    im = Image.new (\"P\", (100, 100), (0,))\n",
    "    draw = ImageDraw.Draw(im)\n",
    "    font_name = \"DejaVuSansMono.ttf\"\n",
    "    if modifier == 'bold':\n",
    "        font_name = \"DejaVuSansMono-Bold.ttf\"\n",
    "    if modifier == 'italic':\n",
    "        font_name = \"DejaVuSerif-Italic.ttf\"\n",
    "    if modifier == 'oblique':\n",
    "        font_name = \"DejaVuSansMono-Oblique.ttf\"\n",
    "    if modifier == 'different':\n",
    "        font_name = \"DejaVuMathTeXGyre.ttf\"\n",
    "    unicode_font = ImageFont.truetype(font_name, 36)\n",
    "    draw.text((10,10), symbol, font=unicode_font, fill=255)\n",
    "    im = np.array(im)\n",
    "    \n",
    "    ver, hor = (np.where(im > 0))\n",
    "    im = im[ver.min():ver.max(), hor.min():hor.max()]\n",
    "    \n",
    "    im = imresize(im, GRID_SIZE, interp='nearest')\n",
    "    \n",
    "    return im"
   ]
  },
  {
   "cell_type": "code",
   "execution_count": 4,
   "metadata": {},
   "outputs": [
    {
     "name": "stderr",
     "output_type": "stream",
     "text": [
      "/home/nbuser/anaconda3_420/lib/python3.5/site-packages/scipy/misc/pilutil.py:482: FutureWarning: Conversion of the second argument of issubdtype from `int` to `np.signedinteger` is deprecated. In future, it will be treated as `np.int64 == np.dtype(int).type`.\n",
      "  if issubdtype(ts, int):\n",
      "/home/nbuser/anaconda3_420/lib/python3.5/site-packages/scipy/misc/pilutil.py:485: FutureWarning: Conversion of the second argument of issubdtype from `float` to `np.floating` is deprecated. In future, it will be treated as `np.float64 == np.dtype(float).type`.\n",
      "  elif issubdtype(type(size), float):\n"
     ]
    },
    {
     "ename": "OSError",
     "evalue": "cannot open resource",
     "output_type": "error",
     "traceback": [
      "\u001b[0;31m---------------------------------------------------------------------------\u001b[0m",
      "\u001b[0;31mOSError\u001b[0m                                   Traceback (most recent call last)",
      "\u001b[0;32m<ipython-input-4-633beb71cd47>\u001b[0m in \u001b[0;36m<module>\u001b[0;34m()\u001b[0m\n\u001b[1;32m     32\u001b[0m     \u001b[0mprepare_image\u001b[0m\u001b[0;34m(\u001b[0m\u001b[0msymbols\u001b[0m\u001b[0;34m[\u001b[0m\u001b[0;36m4\u001b[0m\u001b[0;34m]\u001b[0m\u001b[0;34m,\u001b[0m \u001b[0;34m'bold'\u001b[0m\u001b[0;34m)\u001b[0m\u001b[0;34m,\u001b[0m\u001b[0;34m\u001b[0m\u001b[0m\n\u001b[1;32m     33\u001b[0m     \u001b[0mprepare_image\u001b[0m\u001b[0;34m(\u001b[0m\u001b[0msymbols\u001b[0m\u001b[0;34m[\u001b[0m\u001b[0;36m5\u001b[0m\u001b[0;34m]\u001b[0m\u001b[0;34m,\u001b[0m \u001b[0;34m'bold'\u001b[0m\u001b[0;34m)\u001b[0m\u001b[0;34m,\u001b[0m\u001b[0;34m\u001b[0m\u001b[0m\n\u001b[0;32m---> 34\u001b[0;31m     \u001b[0mprepare_image\u001b[0m\u001b[0;34m(\u001b[0m\u001b[0msymbols\u001b[0m\u001b[0;34m[\u001b[0m\u001b[0;36m0\u001b[0m\u001b[0;34m]\u001b[0m\u001b[0;34m,\u001b[0m \u001b[0;34m'different'\u001b[0m\u001b[0;34m)\u001b[0m\u001b[0;34m,\u001b[0m\u001b[0;34m\u001b[0m\u001b[0m\n\u001b[0m\u001b[1;32m     35\u001b[0m     \u001b[0mprepare_image\u001b[0m\u001b[0;34m(\u001b[0m\u001b[0msymbols\u001b[0m\u001b[0;34m[\u001b[0m\u001b[0;36m3\u001b[0m\u001b[0;34m]\u001b[0m\u001b[0;34m,\u001b[0m \u001b[0;34m'different'\u001b[0m\u001b[0;34m)\u001b[0m\u001b[0;34m,\u001b[0m\u001b[0;34m\u001b[0m\u001b[0m\n\u001b[1;32m     36\u001b[0m     \u001b[0mprepare_image\u001b[0m\u001b[0;34m(\u001b[0m\u001b[0msymbols\u001b[0m\u001b[0;34m[\u001b[0m\u001b[0;36m6\u001b[0m\u001b[0;34m]\u001b[0m\u001b[0;34m,\u001b[0m \u001b[0;34m'different'\u001b[0m\u001b[0;34m)\u001b[0m\u001b[0;34m,\u001b[0m\u001b[0;34m\u001b[0m\u001b[0m\n",
      "\u001b[0;32m<ipython-input-3-33e33ae8f6b3>\u001b[0m in \u001b[0;36mprepare_image\u001b[0;34m(symbol, modifier)\u001b[0m\n\u001b[1;32m     11\u001b[0m     \u001b[0;32mif\u001b[0m \u001b[0mmodifier\u001b[0m \u001b[0;34m==\u001b[0m \u001b[0;34m'different'\u001b[0m\u001b[0;34m:\u001b[0m\u001b[0;34m\u001b[0m\u001b[0m\n\u001b[1;32m     12\u001b[0m         \u001b[0mfont_name\u001b[0m \u001b[0;34m=\u001b[0m \u001b[0;34m\"DejaVuMathTeXGyre.ttf\"\u001b[0m\u001b[0;34m\u001b[0m\u001b[0m\n\u001b[0;32m---> 13\u001b[0;31m     \u001b[0municode_font\u001b[0m \u001b[0;34m=\u001b[0m \u001b[0mImageFont\u001b[0m\u001b[0;34m.\u001b[0m\u001b[0mtruetype\u001b[0m\u001b[0;34m(\u001b[0m\u001b[0mfont_name\u001b[0m\u001b[0;34m,\u001b[0m \u001b[0;36m36\u001b[0m\u001b[0;34m)\u001b[0m\u001b[0;34m\u001b[0m\u001b[0m\n\u001b[0m\u001b[1;32m     14\u001b[0m     \u001b[0mdraw\u001b[0m\u001b[0;34m.\u001b[0m\u001b[0mtext\u001b[0m\u001b[0;34m(\u001b[0m\u001b[0;34m(\u001b[0m\u001b[0;36m10\u001b[0m\u001b[0;34m,\u001b[0m\u001b[0;36m10\u001b[0m\u001b[0;34m)\u001b[0m\u001b[0;34m,\u001b[0m \u001b[0msymbol\u001b[0m\u001b[0;34m,\u001b[0m \u001b[0mfont\u001b[0m\u001b[0;34m=\u001b[0m\u001b[0municode_font\u001b[0m\u001b[0;34m,\u001b[0m \u001b[0mfill\u001b[0m\u001b[0;34m=\u001b[0m\u001b[0;36m255\u001b[0m\u001b[0;34m)\u001b[0m\u001b[0;34m\u001b[0m\u001b[0m\n\u001b[1;32m     15\u001b[0m     \u001b[0mim\u001b[0m \u001b[0;34m=\u001b[0m \u001b[0mnp\u001b[0m\u001b[0;34m.\u001b[0m\u001b[0marray\u001b[0m\u001b[0;34m(\u001b[0m\u001b[0mim\u001b[0m\u001b[0;34m)\u001b[0m\u001b[0;34m\u001b[0m\u001b[0m\n",
      "\u001b[0;32m~/anaconda3_420/lib/python3.5/site-packages/PIL/ImageFont.py\u001b[0m in \u001b[0;36mtruetype\u001b[0;34m(font, size, index, encoding, layout_engine)\u001b[0m\n\u001b[1;32m    257\u001b[0m \u001b[0;34m\u001b[0m\u001b[0m\n\u001b[1;32m    258\u001b[0m     \u001b[0;32mtry\u001b[0m\u001b[0;34m:\u001b[0m\u001b[0;34m\u001b[0m\u001b[0m\n\u001b[0;32m--> 259\u001b[0;31m         \u001b[0;32mreturn\u001b[0m \u001b[0mFreeTypeFont\u001b[0m\u001b[0;34m(\u001b[0m\u001b[0mfont\u001b[0m\u001b[0;34m,\u001b[0m \u001b[0msize\u001b[0m\u001b[0;34m,\u001b[0m \u001b[0mindex\u001b[0m\u001b[0;34m,\u001b[0m \u001b[0mencoding\u001b[0m\u001b[0;34m,\u001b[0m \u001b[0mlayout_engine\u001b[0m\u001b[0;34m)\u001b[0m\u001b[0;34m\u001b[0m\u001b[0m\n\u001b[0m\u001b[1;32m    260\u001b[0m     \u001b[0;32mexcept\u001b[0m \u001b[0mIOError\u001b[0m\u001b[0;34m:\u001b[0m\u001b[0;34m\u001b[0m\u001b[0m\n\u001b[1;32m    261\u001b[0m         \u001b[0mttf_filename\u001b[0m \u001b[0;34m=\u001b[0m \u001b[0mos\u001b[0m\u001b[0;34m.\u001b[0m\u001b[0mpath\u001b[0m\u001b[0;34m.\u001b[0m\u001b[0mbasename\u001b[0m\u001b[0;34m(\u001b[0m\u001b[0mfont\u001b[0m\u001b[0;34m)\u001b[0m\u001b[0;34m\u001b[0m\u001b[0m\n",
      "\u001b[0;32m~/anaconda3_420/lib/python3.5/site-packages/PIL/ImageFont.py\u001b[0m in \u001b[0;36m__init__\u001b[0;34m(self, font, size, index, encoding, layout_engine)\u001b[0m\n\u001b[1;32m    141\u001b[0m \u001b[0;34m\u001b[0m\u001b[0m\n\u001b[1;32m    142\u001b[0m         \u001b[0;32mif\u001b[0m \u001b[0misPath\u001b[0m\u001b[0;34m(\u001b[0m\u001b[0mfont\u001b[0m\u001b[0;34m)\u001b[0m\u001b[0;34m:\u001b[0m\u001b[0;34m\u001b[0m\u001b[0m\n\u001b[0;32m--> 143\u001b[0;31m             \u001b[0mself\u001b[0m\u001b[0;34m.\u001b[0m\u001b[0mfont\u001b[0m \u001b[0;34m=\u001b[0m \u001b[0mcore\u001b[0m\u001b[0;34m.\u001b[0m\u001b[0mgetfont\u001b[0m\u001b[0;34m(\u001b[0m\u001b[0mfont\u001b[0m\u001b[0;34m,\u001b[0m \u001b[0msize\u001b[0m\u001b[0;34m,\u001b[0m \u001b[0mindex\u001b[0m\u001b[0;34m,\u001b[0m \u001b[0mencoding\u001b[0m\u001b[0;34m,\u001b[0m \u001b[0mlayout_engine\u001b[0m\u001b[0;34m=\u001b[0m\u001b[0mlayout_engine\u001b[0m\u001b[0;34m)\u001b[0m\u001b[0;34m\u001b[0m\u001b[0m\n\u001b[0m\u001b[1;32m    144\u001b[0m         \u001b[0;32melse\u001b[0m\u001b[0;34m:\u001b[0m\u001b[0;34m\u001b[0m\u001b[0m\n\u001b[1;32m    145\u001b[0m             \u001b[0mself\u001b[0m\u001b[0;34m.\u001b[0m\u001b[0mfont_bytes\u001b[0m \u001b[0;34m=\u001b[0m \u001b[0mfont\u001b[0m\u001b[0;34m.\u001b[0m\u001b[0mread\u001b[0m\u001b[0;34m(\u001b[0m\u001b[0;34m)\u001b[0m\u001b[0;34m\u001b[0m\u001b[0m\n",
      "\u001b[0;31mOSError\u001b[0m: cannot open resource"
     ]
    }
   ],
   "source": [
    "symbols = 'Z S E F V > δ 2 6 8'.split(' ')\n",
    "\n",
    "train_data = [\n",
    "    prepare_image(symbols[0]),\n",
    "    prepare_image(symbols[2]),\n",
    "    prepare_image(symbols[6]),\n",
    "    prepare_image(symbols[8]),\n",
    "    prepare_image(symbols[1]),\n",
    "    prepare_image(symbols[3]),\n",
    "    prepare_image(symbols[5]),\n",
    "    prepare_image(symbols[7]),\n",
    "    prepare_image(symbols[1]),\n",
    "    prepare_image(symbols[4]),\n",
    "    prepare_image(symbols[5]),\n",
    "    prepare_image(symbols[0]),\n",
    "    prepare_image(symbols[3]),\n",
    "    prepare_image(symbols[6]),\n",
    "    prepare_image(symbols[9]),\n",
    "    prepare_image(symbols[9]),\n",
    "]\n",
    "\n",
    "test_data = [\n",
    "    prepare_image(symbols[0], 'oblique'),\n",
    "    prepare_image(symbols[2], 'oblique'),\n",
    "    prepare_image(symbols[6], 'oblique'),\n",
    "    prepare_image(symbols[8], 'oblique'),\n",
    "    prepare_image(symbols[1], 'italic'),\n",
    "    prepare_image(symbols[3], 'italic'),\n",
    "    prepare_image(symbols[5], 'italic'),\n",
    "    prepare_image(symbols[7], 'italic'),\n",
    "    prepare_image(symbols[1], 'bold'),\n",
    "    prepare_image(symbols[4], 'bold'),\n",
    "    prepare_image(symbols[5], 'bold'),\n",
    "    prepare_image(symbols[0], 'different'),\n",
    "    prepare_image(symbols[3], 'different'),\n",
    "    prepare_image(symbols[6], 'different'),\n",
    "    prepare_image(symbols[9], 'different'),\n",
    "    prepare_image(str(int(symbols[9]) + 1)),\n",
    "]"
   ]
  },
  {
   "cell_type": "code",
   "execution_count": null,
   "metadata": {},
   "outputs": [],
   "source": [
    "def get_feature_response(X, feature):\n",
    "    return np.array([(x * feature).sum() for x in X])\n",
    "\n",
    "features = list()\n",
    "for i in range(GRID_SIZE[0]):\n",
    "    features.append(np.zeros(GRID_SIZE))\n",
    "    features[-1][i, :] = 1\n",
    "    \n",
    "for i in range(GRID_SIZE[1]):\n",
    "    features.append(np.zeros(GRID_SIZE))\n",
    "    features[-1][:, i] = 1\n",
    "    \n",
    "for i in range(GRID_SIZE[0]):\n",
    "    features.append(np.zeros(GRID_SIZE))\n",
    "    features[-1][i//2:-i//2, i//2:-i//2] = 1\n",
    "    \n",
    "features.append(np.eye(GRID_SIZE[0]))\n",
    "features.append(np.eye(GRID_SIZE[0])[::-1])"
   ]
  },
  {
   "cell_type": "code",
   "execution_count": null,
   "metadata": {},
   "outputs": [],
   "source": [
    "train_responses = list()\n",
    "for f in features:\n",
    "    train_responses.append(get_feature_response(train_data, f))\n",
    "train_responses = np.array(train_responses).T\n",
    "\n",
    "test_responses = list()\n",
    "for f in features:\n",
    "    test_responses.append(get_feature_response(test_data, f))\n",
    "test_responses = np.array(test_responses).T"
   ]
  },
  {
   "cell_type": "code",
   "execution_count": null,
   "metadata": {},
   "outputs": [],
   "source": [
    "def maxmin_diffs(x, y, weights):\n",
    "    dists = np.abs(np.expand_dims(x, 1) - np.expand_dims(y, 0)).astype(np.float64)\n",
    "    dists_weighted = dists * weights.reshape(1, 1, -1)\n",
    "    \n",
    "    return dists_weighted.max(axis=2)\n",
    "\n",
    "def linear_diffs(x, y, weights):\n",
    "    dists = np.abs(np.expand_dims(x, 1) - np.expand_dims(y, 0)).astype(np.float64)\n",
    "    dists_weighted = dists * weights.reshape(1, 1, -1)\n",
    "    \n",
    "    return dists_weighted.sum(axis=2)\n",
    "\n",
    "initial_weights = np.ones(len(features))\n",
    "\n",
    "initial_maxmin_diffs = maxmin_diffs(train_responses, test_responses, initial_weights)\n",
    "initial_linear_diffs = linear_diffs(train_responses, test_responses, initial_weights)\n",
    "\n",
    "def norm(x, axis=1):\n",
    "    return -(x / x.mean())\n",
    "\n",
    "def softmax(x, axis=1):\n",
    "    exp = np.exp(x)\n",
    "    return exp / exp.sum(axis)\n",
    "\n",
    "def loss(diff_method):\n",
    "\n",
    "    one_hot_labels = np.eye(test_responses.shape[0])\n",
    "    \n",
    "    def _loss(w):\n",
    "        one_hot_logits = diff_method(train_responses, test_responses, w)\n",
    "        one_hot_logits = softmax(norm(one_hot_logits))\n",
    "\n",
    "        return (-(one_hot_labels * np.log(one_hot_logits)).mean(axis=1)).sum()\n",
    "    \n",
    "    return _loss\n",
    "\n",
    "\n",
    "print('Метод максиминой свертки:')\n",
    "print('Начальная точность %.2f' % (initial_maxmin_diffs.argmin(axis=1) == np.arange(test_responses.shape[0])).mean())\n",
    "\n",
    "res = minimize(loss(maxmin_diffs), initial_weights)\n",
    "final_maxmin_weights, fun = res.x, res.fun\n",
    "\n",
    "final_maxmin_diffs = maxmin_diffs(train_responses, test_responses, final_maxmin_weights)\n",
    "print('Конечная точность %.2f' % (final_maxmin_diffs.argmin(axis=1) == np.arange(test_responses.shape[0])).mean())\n",
    "\n",
    "print()\n",
    "\n",
    "print('Метод линейной свертки:')\n",
    "print('Начальная точность %.2f' % (initial_linear_diffs.argmin(axis=1) == np.arange(test_responses.shape[0])).mean())\n",
    "\n",
    "res = minimize(loss(linear_diffs), initial_weights)\n",
    "final_linear_diffs_weights, fun = res.x, res.fun\n",
    "\n",
    "final_linear_diffs = linear_diffs(train_responses, test_responses, final_linear_diffs_weights)\n",
    "print('Конечная точность %.2f' % (final_maxmin_diffs.argmin(axis=1) == np.arange(test_responses.shape[0])).mean())"
   ]
  },
  {
   "cell_type": "code",
   "execution_count": null,
   "metadata": {},
   "outputs": [],
   "source": []
  }
 ],
 "metadata": {
  "kernelspec": {
   "display_name": "Python 3",
   "language": "python",
   "name": "python3"
  },
  "language_info": {
   "codemirror_mode": {
    "name": "ipython",
    "version": 3
   },
   "file_extension": ".py",
   "mimetype": "text/x-python",
   "name": "python",
   "nbconvert_exporter": "python",
   "pygments_lexer": "ipython3",
   "version": "3.5.4"
  }
 },
 "nbformat": 4,
 "nbformat_minor": 2
}
